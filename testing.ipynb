{
 "cells": [
  {
   "cell_type": "code",
   "execution_count": 1,
   "metadata": {
    "colab": {},
    "colab_type": "code",
    "id": "-MnlJHj_mtQZ"
   },
   "outputs": [],
   "source": [
    "from bs4 import BeautifulSoup\n",
    "import requests\n",
    "import sqlite3\n",
    "\n",
    "TIKI_URL = \"https://tiki.vn\""
   ]
  },
  {
   "cell_type": "code",
   "execution_count": 2,
   "metadata": {
    "colab": {},
    "colab_type": "code",
    "id": "Ozk2UnYHmvA6"
   },
   "outputs": [],
   "source": [
    "#create connection\n",
    "conn = sqlite3.connect('tiki.db', timeout=5)\n",
    "cur = conn.cursor()"
   ]
  },
  {
   "cell_type": "code",
   "execution_count": 144,
   "metadata": {
    "colab": {},
    "colab_type": "code",
    "id": "UtSFg5RImyyR"
   },
   "outputs": [],
   "source": [
    "def create_categories_table():\n",
    "    query = \"\"\"\n",
    "        CREATE TABLE IF NOT EXISTS categories (\n",
    "            id INTEGER PRIMARY KEY AUTOINCREMENT,\n",
    "            name VARCHAR(255),\n",
    "            url TEXT, \n",
    "            parent_id INT, \n",
    "            create_at TIMESTAMP DEFAULT CURRENT_TIMESTAMP\n",
    "        )\n",
    "    \"\"\"\n",
    "    try:\n",
    "        cur.execute(query)\n",
    "    except Exception as err:\n",
    "        print('ERROR BY CREATE TABLE', err)\n",
    "create_categories_table()"
   ]
  },
  {
   "cell_type": "code",
   "execution_count": 145,
   "metadata": {
    "colab": {},
    "colab_type": "code",
    "id": "bZrG3WM7m3eY"
   },
   "outputs": [],
   "source": [
    "class Category:\n",
    "    def __init__(self, cat_id, name, url, parent_id):\n",
    "        self.cat_id = cat_id\n",
    "        self.name = name\n",
    "        self.url = url\n",
    "        self.parent_id = parent_id\n",
    "\n",
    "    def __repr__(self):\n",
    "        return \"ID: {}, Name: {}, URL: {}, Parent_id: {}\".format(self.cat_id, self.name, self.url, self.parent_id)\n",
    "\n",
    "    def save_into_db(self):\n",
    "        query = \"\"\"\n",
    "            INSERT INTO categories (name, url, parent_id)\n",
    "            VALUES (?, ?, ?);\n",
    "        \"\"\"\n",
    "        val = (self.name, self.url, self.parent_id)\n",
    "        try:\n",
    "            cur.execute(query, val)\n",
    "            self.cat_id = cur.lastrowid\n",
    "            conn.commit()\n",
    "        except Exception as err:\n",
    "            print('ERROR BY INSERT:', err)\n"
   ]
  },
  {
   "cell_type": "code",
   "execution_count": 6,
   "metadata": {
    "colab": {},
    "colab_type": "code",
    "id": "rjKZzKitm6vY"
   },
   "outputs": [],
   "source": [
    "import time\n",
    "def get_url(url):\n",
    "    time.sleep(1)\n",
    "    try:\n",
    "        response = requests.get(url).text\n",
    "        response = BeautifulSoup(response, 'html.parser')\n",
    "        return response\n",
    "    except Exception as err:\n",
    "            print('ERROR BY REQUEST:', err)"
   ]
  },
  {
   "cell_type": "code",
   "execution_count": 147,
   "metadata": {
    "colab": {},
    "colab_type": "code",
    "id": "6Hj1g_O8m8Mo"
   },
   "outputs": [],
   "source": [
    "def get_main_categories(save_db=False):\n",
    "    soup = get_url(TIKI_URL)\n",
    "\n",
    "    result = []\n",
    "    for a in soup.findAll('a', {'class':'MenuItem__MenuLink-tii3xq-1 efuIbv'}):\n",
    "        cat_id = None\n",
    "        name = a.find('span', {'class':'text'}).text\n",
    "        url = a['href']\n",
    "        parent_id = None\n",
    "\n",
    "        cat = Category(cat_id, name, url, parent_id)\n",
    "        if save_db:\n",
    "            cat.save_into_db()\n",
    "        result.append(cat)\n",
    "    return result"
   ]
  },
  {
   "cell_type": "code",
   "execution_count": 148,
   "metadata": {
    "colab": {},
    "colab_type": "code",
    "id": "QQoZq5L_m-LX"
   },
   "outputs": [],
   "source": [
    "main_categories = get_main_categories(save_db=True)"
   ]
  },
  {
   "cell_type": "code",
   "execution_count": 149,
   "metadata": {
    "colab": {},
    "colab_type": "code",
    "id": "dBSTLyDKnKQt"
   },
   "outputs": [],
   "source": [
    "def get_sub_categories(category, save_db=False):\n",
    "    name = category.name\n",
    "    url = category.url\n",
    "    result = []\n",
    "\n",
    "    try:\n",
    "        soup = get_url(url)\n",
    "        div_containers = soup.findAll('div', {'class':'list-group-item is-child'})\n",
    "        for div in div_containers:\n",
    "            sub_id = None\n",
    "            sub_name = div.a.text\n",
    "            sub_url = 'http://tiki.vn' + div.a['href']\n",
    "            sub_parent_id = category.cat_id\n",
    "\n",
    "            sub = Category(sub_id, sub_name, sub_url, sub_parent_id)\n",
    "            if save_db:\n",
    "                sub.save_into_db()\n",
    "            result.append(sub)\n",
    "    except Exception as err:\n",
    "        print('ERROR BY GET SUB CATEGORIES:', err)\n",
    "\n",
    "    return result"
   ]
  },
  {
   "cell_type": "code",
   "execution_count": 125,
   "metadata": {
    "colab": {
     "base_uri": "https://localhost:8080/",
     "height": 309
    },
    "colab_type": "code",
    "id": "4-ye90xvnNhu",
    "outputId": "2c3727fd-4aea-4d18-d427-2f8907b6acbb"
   },
   "outputs": [
    {
     "data": {
      "text/plain": [
       "[ID: 1, Name: Điện Thoại - Máy Tính Bảng, URL: https://tiki.vn/dien-thoai-may-tinh-bang/c1789?src=c.1789.hamburger_menu_fly_out_banner, Parent_id: None,\n",
       " ID: 2, Name: Điện Tử - Điện Lạnh, URL: https://tiki.vn/tivi-thiet-bi-nghe-nhin/c4221?src=c.4221.hamburger_menu_fly_out_banner, Parent_id: None,\n",
       " ID: 3, Name: Phụ Kiện - Thiết Bị Số, URL: https://tiki.vn/thiet-bi-kts-phu-kien-so/c1815?src=c.1815.hamburger_menu_fly_out_banner, Parent_id: None,\n",
       " ID: 4, Name: Laptop - Thiết bị IT, URL: https://tiki.vn/laptop-may-vi-tinh/c1846?src=c.1846.hamburger_menu_fly_out_banner, Parent_id: None,\n",
       " ID: 5, Name: Máy Ảnh - Quay Phim, URL: https://tiki.vn/may-anh/c1801?src=c.1801.hamburger_menu_fly_out_banner, Parent_id: None,\n",
       " ID: 6, Name: Điện Gia Dụng, URL: https://tiki.vn/dien-gia-dung/c1882?src=c.1882.hamburger_menu_fly_out_banner, Parent_id: None,\n",
       " ID: 7, Name: Nhà Cửa Đời Sống, URL: https://tiki.vn/nha-cua-doi-song/c1883?src=c.1883.hamburger_menu_fly_out_banner, Parent_id: None,\n",
       " ID: 8, Name: Hàng Tiêu Dùng - Thực Phẩm, URL: https://tiki.vn/bach-hoa-online/c4384?src=c.4384.hamburger_menu_fly_out_banner, Parent_id: None,\n",
       " ID: 9, Name: Đồ chơi, Mẹ & Bé, URL: https://tiki.vn/me-va-be/c2549?src=c.2549.hamburger_menu_fly_out_banner, Parent_id: None,\n",
       " ID: 10, Name: Làm Đẹp - Sức Khỏe, URL: https://tiki.vn/lam-dep-suc-khoe/c1520?src=c.1520.hamburger_menu_fly_out_banner, Parent_id: None,\n",
       " ID: 11, Name: Thời trang - Phụ kiện, URL: https://tiki.vn/thoi-trang/c914?src=c.914.hamburger_menu_fly_out_banner, Parent_id: None,\n",
       " ID: 12, Name: Thể Thao - Dã Ngoại, URL: https://tiki.vn/the-thao/c1975?src=c.1975.hamburger_menu_fly_out_banner, Parent_id: None,\n",
       " ID: 13, Name: Xe Máy, Ô tô, Xe Đạp, URL: https://tiki.vn/o-to-xe-may-xe-dap/c8594?src=c.8594.hamburger_menu_fly_out_banner, Parent_id: None,\n",
       " ID: 14, Name: Hàng quốc tế, URL: https://tiki.vn/hang-quoc-te/c17166?src=c.17166.hamburger_menu_fly_out_banner, Parent_id: None,\n",
       " ID: 15, Name: Sách, VPP & Quà Tặng, URL: https://tiki.vn/nha-sach-tiki/c8322?src=c.8322.hamburger_menu_fly_out_banner, Parent_id: None,\n",
       " ID: 16, Name: Voucher - Dịch Vụ - Thẻ Cào, URL: https://tiki.vn/voucher-dich-vu/c11312?src=c.11312.hamburger_menu_fly_out_banner, Parent_id: None]"
      ]
     },
     "execution_count": 125,
     "metadata": {
      "tags": []
     },
     "output_type": "execute_result"
    }
   ],
   "source": [
    "main_categories"
   ]
  },
  {
   "cell_type": "code",
   "execution_count": 140,
   "metadata": {
    "colab": {
     "base_uri": "https://localhost:8080/",
     "height": 34
    },
    "colab_type": "code",
    "id": "LeP-os2FneKb",
    "outputId": "72794e08-b157-44a9-be34-2e7077366198"
   },
   "outputs": [
    {
     "data": {
      "text/plain": [
       "<sqlite3.Cursor at 0x7ff78d921420>"
      ]
     },
     "execution_count": 140,
     "metadata": {},
     "output_type": "execute_result"
    }
   ],
   "source": [
    "# cur.execute(\"DROP TABLE product;\")"
   ]
  },
  {
   "cell_type": "code",
   "execution_count": 9,
   "metadata": {
    "colab": {
     "base_uri": "https://localhost:8080/",
     "height": 751
    },
    "colab_type": "code",
    "id": "aEJ282ZTn3ti",
    "outputId": "63c1c771-6561-4cb0-a15b-a2ff02723d7d"
   },
   "outputs": [
    {
     "data": {
      "text/plain": [
       "[ID: None, Name: \n",
       "                                 Bộ sản phẩm làm đẹp                                                                (363)\n",
       " , URL: http://tiki.vn/bo-san-pham-lam-dep/c8161?src=c.1520.hamburger_menu_fly_out_banner, Parent_id: 3210,\n",
       " ID: None, Name: \n",
       "                                 Chăm sóc cá nhân                                                                (2408)\n",
       " , URL: http://tiki.vn/cham-soc-ca-nhan/c1594?src=c.1520.hamburger_menu_fly_out_banner, Parent_id: 3210,\n",
       " ID: None, Name: \n",
       "                                 Chăm sóc cơ thể                                                                (4639)\n",
       " , URL: http://tiki.vn/cham-soc-co-the/c1592?src=c.1520.hamburger_menu_fly_out_banner, Parent_id: 3210,\n",
       " ID: None, Name: \n",
       "                                 Chăm sóc da mặt                                                                (13992)\n",
       " , URL: http://tiki.vn/cham-soc-da-mat/c1582?src=c.1520.hamburger_menu_fly_out_banner, Parent_id: 3210,\n",
       " ID: None, Name: \n",
       "                                 Chăm sóc tóc và da đầu                                                                (3519)\n",
       " , URL: http://tiki.vn/cham-soc-toc-da-dau/c1591?src=c.1520.hamburger_menu_fly_out_banner, Parent_id: 3210,\n",
       " ID: None, Name: \n",
       "                                 Dược mỹ phẩm                                                                (923)\n",
       " , URL: http://tiki.vn/duoc-my-pham/c5874?src=c.1520.hamburger_menu_fly_out_banner, Parent_id: 3210,\n",
       " ID: None, Name: \n",
       "                                 Hỗ trợ tình dục                                                                (1265)\n",
       " , URL: http://tiki.vn/ho-tro-tinh-duc/c8142?src=c.1520.hamburger_menu_fly_out_banner, Parent_id: 3210,\n",
       " ID: None, Name: \n",
       "                                 Nước hoa                                                                (1270)\n",
       " , URL: http://tiki.vn/nuoc-hoa/c1595?src=c.1520.hamburger_menu_fly_out_banner, Parent_id: 3210,\n",
       " ID: None, Name: \n",
       "                                 Sản phẩm thiên nhiên                                                                (1987)\n",
       " , URL: http://tiki.vn/san-pham-thien-nhien-handmade/c5873?src=c.1520.hamburger_menu_fly_out_banner, Parent_id: 3210,\n",
       " ID: None, Name: \n",
       "                                 Thiết bị chăm sóc sức khỏe                                                                (2333)\n",
       " , URL: http://tiki.vn/thiet-bi-cham-soc-suc-khoe/c2307?src=c.1520.hamburger_menu_fly_out_banner, Parent_id: 3210,\n",
       " ID: None, Name: \n",
       "                                 Thiết bị làm đẹp                                                                (1720)\n",
       " , URL: http://tiki.vn/thiet-bi-lam-dep/c2306?src=c.1520.hamburger_menu_fly_out_banner, Parent_id: 3210,\n",
       " ID: None, Name: \n",
       "                                 Thực phẩm chức năng                                                                (4185)\n",
       " , URL: http://tiki.vn/thuc-pham-chuc-nang/c2322?src=c.1520.hamburger_menu_fly_out_banner, Parent_id: 3210,\n",
       " ID: None, Name: \n",
       "                                 Tinh dầu spa                                                                (910)\n",
       " , URL: http://tiki.vn/tinh-dau-spa/c11348?src=c.1520.hamburger_menu_fly_out_banner, Parent_id: 3210,\n",
       " ID: None, Name: \n",
       "                                 Trang điểm                                                                 (6827)\n",
       " , URL: http://tiki.vn/trang-diem/c1584?src=c.1520.hamburger_menu_fly_out_banner, Parent_id: 3210]"
      ]
     },
     "execution_count": 9,
     "metadata": {},
     "output_type": "execute_result"
    }
   ],
   "source": [
    "cat = main_categories[9]\n",
    "get_sub_categories(cat)"
   ]
  },
  {
   "cell_type": "code",
   "execution_count": 150,
   "metadata": {
    "colab": {},
    "colab_type": "code",
    "id": "soxTtIgOoA7-"
   },
   "outputs": [],
   "source": [
    "from collections import deque\n",
    "\n",
    "def get_all_categories(main_categories):\n",
    "    de = deque(main_categories)\n",
    "    count = 0\n",
    "\n",
    "    while de:\n",
    "        parent_cat = de.popleft()\n",
    "        sub_cats = get_sub_categories(parent_cat, save_db=True)\n",
    "        # print(sub_cats)\n",
    "        de.extend(sub_cats)\n",
    "        count += 1\n",
    "\n",
    "        if count % 100 == 0:\n",
    "            print(count, 'times')\n"
   ]
  },
  {
   "cell_type": "code",
   "execution_count": 151,
   "metadata": {
    "colab": {},
    "colab_type": "code",
    "id": "JEgolGD7oDkv"
   },
   "outputs": [
    {
     "name": "stdout",
     "output_type": "stream",
     "text": [
      "100 times\n",
      "200 times\n",
      "300 times\n",
      "400 times\n",
      "500 times\n",
      "600 times\n",
      "700 times\n",
      "800 times\n",
      "ERROR BY REQUEST: HTTPSConnectionPool(host='tiki.vn', port=443): Max retries exceeded with url: /giay-the-thao-nu-khac/c32874?src=c.1975.hamburger_menu_fly_out_banner (Caused by NewConnectionError('<urllib3.connection.VerifiedHTTPSConnection object at 0x7ff7735df510>: Failed to establish a new connection: [Errno -3] Temporary failure in name resolution'))\n",
      "ERROR BY GET SUB CATEGORIES: 'NoneType' object has no attribute 'findAll'\n",
      "900 times\n",
      "1000 times\n",
      "1100 times\n",
      "1200 times\n",
      "1300 times\n",
      "1400 times\n",
      "1500 times\n",
      "1600 times\n",
      "1700 times\n",
      "1800 times\n",
      "1900 times\n",
      "2000 times\n",
      "2100 times\n",
      "2200 times\n",
      "2300 times\n",
      "2400 times\n",
      "2500 times\n",
      "2600 times\n",
      "2700 times\n",
      "2800 times\n",
      "2900 times\n",
      "3000 times\n",
      "3100 times\n"
     ]
    }
   ],
   "source": [
    "get_all_categories(main_categories)"
   ]
  },
  {
   "cell_type": "code",
   "execution_count": 161,
   "metadata": {
    "colab": {},
    "colab_type": "code",
    "id": "Blcy5zz0wW0k"
   },
   "outputs": [],
   "source": [
    "#create a product table\n",
    "#refer to the sub category with foreign key\n",
    "def create_product_table():\n",
    "    query = \"\"\"\n",
    "        CREATE TABLE IF NOT EXISTS product (\n",
    "            id INTEGER PRIMARY KEY AUTOINCREMENT,\n",
    "            name VARCHAR(255),\n",
    "            url TEXT,\n",
    "            img_url TEXT,\n",
    "            regular_price TEXT,\n",
    "            final_price TEXT,            \n",
    "            sale_tag TEXT,\n",
    "            comment INT,\n",
    "            rating TEXT,\n",
    "            cat_id INT,\n",
    "            FOREIGN KEY(cat_id) REFERENCES categories(parent_id)\n",
    "            );\n",
    "    \"\"\"\n",
    "    try:\n",
    "        cur.execute(query)\n",
    "    except Exception as err:\n",
    "        print('ERROR BY CREATE TABLE', err)\n",
    "create_product_table()"
   ]
  },
  {
   "cell_type": "code",
   "execution_count": 160,
   "metadata": {
    "colab": {
     "base_uri": "https://localhost:8080/",
     "height": 34
    },
    "colab_type": "code",
    "id": "BMEJBXu8TnGj",
    "outputId": "769380e3-8f0b-4121-8a76-e4c3eedb6bf4"
   },
   "outputs": [
    {
     "data": {
      "text/plain": [
       "<sqlite3.Cursor at 0x7ff7738b3570>"
      ]
     },
     "execution_count": 160,
     "metadata": {},
     "output_type": "execute_result"
    }
   ],
   "source": [
    "# cur.execute(\"DROP TABLE product;\")"
   ]
  },
  {
   "cell_type": "code",
   "execution_count": 3,
   "metadata": {
    "colab": {},
    "colab_type": "code",
    "id": "lRW_3K1H2cGN"
   },
   "outputs": [],
   "source": [
    "class Product():\n",
    "    def __init__(self, product_id, name, url, img_url, regular_price, final_price, sale_tag, comment, rating, cat_id):\n",
    "        self.product_id = product_id\n",
    "        self.name = name\n",
    "        self.url = url\n",
    "        self.img_url = img_url\n",
    "        self.regular_price = regular_price\n",
    "        self.final_price = final_price\n",
    "        self.sale_tag = sale_tag\n",
    "        self.comment = comment\n",
    "        self.rating = rating\n",
    "        self.cat_id = cat_id\n",
    "\n",
    "    def __repr__(self):\n",
    "        return \"ID: {}, Name: {}, URL: {}, Img_URL: {}, regular_price: {}, final_price: {}, sale_tag: {}, comment: {}, rating: {}, cat_id: {}\".format(self.product_id, self.name, self.url, self.igm_url, self.regular_price, self.final_price, self.sale_tag, self.comment, self.rating, self.cat_id)\n",
    "\n",
    "    def save_into_db(self):\n",
    "        query = \"\"\"\n",
    "            INSERT INTO product (name, url, img_url, regular_price, final_price, sale_tag, comment, rating, cat_id)\n",
    "            VALUES (?, ?, ?, ?, ?, ?, ?, ?, ?);\n",
    "        \"\"\"\n",
    "        val = (self.name, self.url, self.img_url, self.regular_price, self.final_price, self.sale_tag, self.comment, self.rating, self.cat_id)\n",
    "        try:\n",
    "            cur.execute(query, val)\n",
    "            self.product_id = cur.lastrowid\n",
    "            conn.commit()\n",
    "        except Exception as err:\n",
    "            print('ERROR BY INSERT:', err)\n"
   ]
  },
  {
   "cell_type": "code",
   "execution_count": 97,
   "metadata": {
    "colab": {},
    "colab_type": "code",
    "id": "DSFuGsEjGHd3"
   },
   "outputs": [
    {
     "name": "stdout",
     "output_type": "stream",
     "text": [
      "84%\n"
     ]
    }
   ],
   "source": [
    "rating = article.find('span', class_='rating-content').span['style'].split(\":\")[-1]\n",
    "print(rating)"
   ]
  },
  {
   "cell_type": "code",
   "execution_count": 179,
   "metadata": {
    "colab": {},
    "colab_type": "code",
    "id": "ADhc7L5-4V9U"
   },
   "outputs": [],
   "source": [
    "#get only the categories of makeup which dont have any child category\n",
    "def get_product(save_db=False):\n",
    "    query = \"\"\"\n",
    "    SELECT id, name, url FROM categories\n",
    "    WHERE parent_id BETWEEN 100 AND 113;\n",
    "    \"\"\"\n",
    "    try:\n",
    "        cur.execute(query)\n",
    "    except Exception as err:\n",
    "        print('ERROR BY SELECT TABLE', err)\n",
    "\n",
    "    rows = cur.fetchall()\n",
    "    \n",
    "    for i in rows:\n",
    "        id = i[0]\n",
    "        name = \" \".join(i[1].strip().split()[:-1])\n",
    "        url = i[2].strip()\n",
    "        for page in range(1,4):\n",
    "            page_url = url + \"&page=\" + str(page)\n",
    "#             print(page_url)\n",
    "            page_html = get_url(page_url)\n",
    "            result = []\n",
    "            try:\n",
    "                products_div = page_html.find_all('div', class_='product-item')[:64]\n",
    "            except Exception as err:\n",
    "                 print('ERROR BY DIV FINDALL: ', err)\n",
    "            if products_div:\n",
    "                if len(products_div) > 0:\n",
    "                    for product_div in products_div:\n",
    "                        product_id = None\n",
    "                        title = product_div.a['title']\n",
    "                        url = product_div.a['href']\n",
    "                        img_url = product_div.img['src']\n",
    "                        regular_price = product_div.find('span', class_='price-regular').text\n",
    "                        final_price = product_div.find('span', class_='final-price').text.split()[0]\n",
    "                        sale_tag = product_div.find('span', class_='sale-tag').text\n",
    "                        comment = product_div.find('p', class_='review').text.split()[0] + ' review(s))'\n",
    "                        if product_div.find('span', class_='rating-content'):\n",
    "                            rating = product_div.find('span', class_='rating-content').find('span')['style'].split(\":\")[-1]\n",
    "                        else:\n",
    "                            rating = '0%'\n",
    "                        product = Product(product_id, name, url, img_url, regular_price, final_price, sale_tag, comment, rating, id)\n",
    "\n",
    "                        if save_db:\n",
    "                            product.save_into_db()\n",
    "                            print(f'SAVE {title} INTO DTB')\n",
    "                        result.append(product)\n",
    "                else:\n",
    "                    break"
   ]
  },
  {
   "cell_type": "code",
   "execution_count": null,
   "metadata": {
    "colab": {},
    "colab_type": "code",
    "id": "gymEJDlExBiv"
   },
   "outputs": [],
   "source": [
    "get_product()"
   ]
  },
  {
   "cell_type": "raw",
   "metadata": {},
   "source": [
    "#get only the categories of makeup which dont have any child category\n",
    "def get_product(save_db=False):\n",
    "    query = \"\"\"\n",
    "    SELECT id, name, url FROM categories\n",
    "    WHERE parent_id BETWEEN 100 AND 113;\n",
    "    \"\"\"\n",
    "    try:\n",
    "        cur.execute(query)\n",
    "    except Exception as err:\n",
    "        print('ERROR BY SELECT TABLE', err)\n",
    "\n",
    "    rows = cur.fetchall()\n",
    "    \n",
    "    for i in rows:\n",
    "        id = i[0]\n",
    "        name = \" \".join(i[1].strip().split()[:-1])\n",
    "        url = i[2].strip()\n",
    "        for page in range(1,4):\n",
    "            page_url = url + \"&page=\" + str(page)\n",
    "            print(page_url)\n",
    "            page_html = get_url(page_url)\n",
    "            products_wrapper_div = page_html.find_all('div', class_='product-box-list')[0]\n",
    "            products_div = products_wrapper_div.find_all('div', class_='product-item')\n",
    "            result = []\n",
    "            if len(products_div) > 0:\n",
    "                for product_div in products_div:\n",
    "                    product_id = None\n",
    "                    title = product_div.a['title']\n",
    "                    url = product_div.a['href']\n",
    "                    img_url = product_div.img['src']\n",
    "                    regular_price = product_div.find('span', class_='price-regular').text\n",
    "                    final_price = product_div.find('span', class_='final-price').text.split()[0]\n",
    "                    sale_tag = product_div.find('span', class_='sale-tag').text\n",
    "                    comment = product_div.find('p', class_='review').text.split()[0] + ' review(s))'\n",
    "                    if product_div.find('span', class_='rating-content'):\n",
    "                        rating = product_div.find('span', class_='rating-content').find('span')['style'].split(\":\")[-1]\n",
    "                    else:\n",
    "                        rating = '0%'\n",
    "                    product = Product(product_id, name, url, img_url, regular_price, final_price, sale_tag, comment, rating, id)\n",
    "\n",
    "                    if save_db:\n",
    "                        product.save_into_db()\n",
    "                        print(f'SAVE {title} INTO DTB')\n",
    "                    result.append(product)\n",
    "            else:\n",
    "                break"
   ]
  },
  {
   "cell_type": "code",
   "execution_count": 7,
   "metadata": {},
   "outputs": [
    {
     "name": "stdout",
     "output_type": "stream",
     "text": [
      "http://tiki.vn/bo-cham-soc-co-the/c8226?src=c.1520.hamburger_menu_fly_out_banner&page=1\n",
      "https://tiki.vn/bo-combo-3-chai-lam-trang-da-da-ryo-mi-cho-mat-toan-than-tay-te-bao-chet-p15067089.html?src=category-page-1520.8161.8226&2hi=0&page=2\n"
     ]
    },
    {
     "ename": "IndexError",
     "evalue": "list index out of range",
     "output_type": "error",
     "traceback": [
      "\u001b[0;31m\u001b[0m",
      "\u001b[0;31mIndexError\u001b[0mTraceback (most recent call last)",
      "\u001b[0;32m<ipython-input-7-39ddb280eba9>\u001b[0m in \u001b[0;36m<module>\u001b[0;34m\u001b[0m\n\u001b[0;32m----> 1\u001b[0;31m \u001b[0mget_product\u001b[0m\u001b[0;34m(\u001b[0m\u001b[0;34m)\u001b[0m\u001b[0;34m\u001b[0m\u001b[0;34m\u001b[0m\u001b[0m\n\u001b[0m",
      "\u001b[0;32m<ipython-input-4-85dc1c46a5ba>\u001b[0m in \u001b[0;36mget_product\u001b[0;34m(save_db)\u001b[0m\n\u001b[1;32m     20\u001b[0m             \u001b[0mprint\u001b[0m\u001b[0;34m(\u001b[0m\u001b[0mpage_url\u001b[0m\u001b[0;34m)\u001b[0m\u001b[0;34m\u001b[0m\u001b[0;34m\u001b[0m\u001b[0m\n\u001b[1;32m     21\u001b[0m             \u001b[0mpage_html\u001b[0m \u001b[0;34m=\u001b[0m \u001b[0mget_url\u001b[0m\u001b[0;34m(\u001b[0m\u001b[0mpage_url\u001b[0m\u001b[0;34m)\u001b[0m\u001b[0;34m\u001b[0m\u001b[0;34m\u001b[0m\u001b[0m\n\u001b[0;32m---> 22\u001b[0;31m             \u001b[0mproducts_wrapper_div\u001b[0m \u001b[0;34m=\u001b[0m \u001b[0mpage_html\u001b[0m\u001b[0;34m.\u001b[0m\u001b[0mfind_all\u001b[0m\u001b[0;34m(\u001b[0m\u001b[0;34m'div'\u001b[0m\u001b[0;34m,\u001b[0m \u001b[0mclass_\u001b[0m\u001b[0;34m=\u001b[0m\u001b[0;34m'product-box-list'\u001b[0m\u001b[0;34m)\u001b[0m\u001b[0;34m[\u001b[0m\u001b[0;36m0\u001b[0m\u001b[0;34m]\u001b[0m\u001b[0;34m\u001b[0m\u001b[0;34m\u001b[0m\u001b[0m\n\u001b[0m\u001b[1;32m     23\u001b[0m             \u001b[0mproducts_div\u001b[0m \u001b[0;34m=\u001b[0m \u001b[0mproducts_wrapper_div\u001b[0m\u001b[0;34m.\u001b[0m\u001b[0mfind_all\u001b[0m\u001b[0;34m(\u001b[0m\u001b[0;34m'div'\u001b[0m\u001b[0;34m,\u001b[0m \u001b[0mclass_\u001b[0m\u001b[0;34m=\u001b[0m\u001b[0;34m'product-item'\u001b[0m\u001b[0;34m)\u001b[0m\u001b[0;34m\u001b[0m\u001b[0;34m\u001b[0m\u001b[0m\n\u001b[1;32m     24\u001b[0m             \u001b[0mresult\u001b[0m \u001b[0;34m=\u001b[0m \u001b[0;34m[\u001b[0m\u001b[0;34m]\u001b[0m\u001b[0;34m\u001b[0m\u001b[0;34m\u001b[0m\u001b[0m\n",
      "\u001b[0;31mIndexError\u001b[0m: list index out of range"
     ]
    }
   ],
   "source": [
    "get_product()"
   ]
  },
  {
   "cell_type": "code",
   "execution_count": null,
   "metadata": {},
   "outputs": [],
   "source": []
  }
 ],
 "metadata": {
  "colab": {
   "collapsed_sections": [],
   "name": "testing.ipynb",
   "provenance": []
  },
  "kernelspec": {
   "display_name": "Python 3",
   "language": "python",
   "name": "python3"
  },
  "language_info": {
   "codemirror_mode": {
    "name": "ipython",
    "version": 3
   },
   "file_extension": ".py",
   "mimetype": "text/x-python",
   "name": "python",
   "nbconvert_exporter": "python",
   "pygments_lexer": "ipython3",
   "version": "3.7.4"
  }
 },
 "nbformat": 4,
 "nbformat_minor": 4
}
